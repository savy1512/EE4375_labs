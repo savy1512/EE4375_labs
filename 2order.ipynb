{
 "cells": [
  {
   "cell_type": "markdown",
   "metadata": {},
   "source": [
    "##### Importing Libraries"
   ]
  },
  {
   "cell_type": "code",
   "execution_count": 1,
   "metadata": {},
   "outputs": [],
   "source": [
    "import Gmsh: gmsh \n",
    "using GR \n",
    "\n",
    "using LinearAlgebra \n",
    "using SparseArrays \n",
    "using StaticArrays\n",
    "using StaticRanges\n",
    "\n",
    "using BenchmarkTools\n",
    "\n",
    "using Test \n",
    "\n",
    "using Plots "
   ]
  },
  {
   "cell_type": "markdown",
   "metadata": {},
   "source": [
    "##### Workflow"
   ]
  },
  {
   "cell_type": "code",
   "execution_count": 2,
   "metadata": {},
   "outputs": [],
   "source": [
    "# Steps to develop the code\n",
    "\n",
    "# 1. Define the structures for the points, elements and Mesh\n",
    "# 2. Define the auxiliary functions required in the code\n",
    "    # 2.1 Calculate transformatin points\n",
    "    # 2.2 Calculate the aij(Aloc element)\n",
    "    # 2.3 Calculate the Mij(Mloc element)\n",
    "    # 2.4 Calculate the fij(f element)\n",
    "# 3. Read the mesh file and define the mesh structures\n",
    "# 4. FEM matrices assembly\n",
    "    # 4.1 A matrix: Stiffness matrix\n",
    "    # 4.2 M matrix: Mass matrix\n",
    "    # 4.3 f vector: Load vector\n",
    "# 5. Check the type stability and number of allocations with varying mesh sizes\n",
    "    # Reasoning: We do this to check if the assembly of the matrices is efficient and type stable\n",
    "# 6. Solving\n",
    "    # 6.1 Handle the boundary conditions\n",
    "    # 6.2 Solve the system of equations"
   ]
  },
  {
   "cell_type": "markdown",
   "metadata": {},
   "source": [
    "##### Step 0: Generating Mesh files"
   ]
  },
  {
   "cell_type": "code",
   "execution_count": null,
   "metadata": {},
   "outputs": [],
   "source": [
    "function generate_square_mesh(lc::Float64)\n",
    "    # Initialize Gmsh\n",
    "    lc = 0.1;\n",
    "    gmsh.initialize()\n",
    "    \n",
    "    # Set Gmsh Options for Terminal Output\n",
    "    gmsh.option.setNumber(\"General.Terminal\", 1)\n",
    "    \n",
    "    # Add a Model Named \"Square\"\n",
    "    gmsh.model.add(\"square\")\n",
    "    \n",
    "    # Define Four Corner Points of the Square with (x, y, z) Coordinates\n",
    "    gmsh.model.geo.addPoint(0, 0, 0, lc, 1)\n",
    "    gmsh.model.geo.addPoint(1, 0, 0, lc, 2)\n",
    "    gmsh.model.geo.addPoint(1, 1, 0, lc, 3)\n",
    "    gmsh.model.geo.addPoint(0, 1, 0, lc, 4)\n",
    "    \n",
    "    # Define Four Edges by Connecting Points Pairwise\n",
    "    gmsh.model.geo.addLine(1, 2, 1)\n",
    "    gmsh.model.geo.addLine(2, 3, 2)\n",
    "    gmsh.model.geo.addLine(3, 4, 3)\n",
    "    gmsh.model.geo.addLine(4, 1, 4)\n",
    "    \n",
    "    # Define a Curved Loop by Connecting the Four Edge Labels\n",
    "    gmsh.model.geo.addCurveLoop([1, 2, 3, 4], 1)\n",
    "    \n",
    "    # Define a Surface Enclosed by the Curved Loop\n",
    "    gmsh.model.geo.addPlaneSurface([1], 1)\n",
    "    \n",
    "    # Label the Surface for Identification\n",
    "    gmsh.model.setPhysicalName(2, 1, \"My surface\")\n",
    "    \n",
    "    # Synchronize the Geometric Model with the Mesh Module\n",
    "    gmsh.model.geo.synchronize()\n",
    "    \n",
    "    # Configuration for 2nd Order Elements\n",
    "    gmsh.option.setNumber(\"Mesh.ElementOrder\", 2)\n",
    "    gmsh.option.setNumber(\"Mesh.SecondOrderLinear\", 1)\n",
    "    \n",
    "    # Generate Two-Dimensional Mesh\n",
    "    gmsh.model.mesh.generate(2)\n",
    "    \n",
    "    # Dynamic filename based on 1/lc\n",
    "    filename = \"square_$(Int64(round(1/lc, digits=2))).msh\"\n",
    "    \n",
    "    # Write Mesh to File\n",
    "    gmsh.write(filename)\n",
    "    \n",
    "    # Visualize Mesh in Gmsh's GUI (if desired)\n",
    "    # gmsh.fltk.run()\n",
    "    \n",
    "    # Finalize Gmsh to Clean Up Resources\n",
    "    gmsh.finalize()\n",
    "    end\n",
    "    \n",
    "# Example usage\n",
    "# generate_square_mesh(0.1)\n",
    "\n",
    "## I ended up using the other notebook to generate the mesh files\n",
    "## ...because the code in this notebook got stuck in a loop for \n",
    "## ...reasons unknown to me."
   ]
  },
  {
   "cell_type": "code",
   "execution_count": 2,
   "metadata": {},
   "outputs": [
    {
     "name": "stdout",
     "output_type": "stream",
     "text": [
      "Mesh file written to: square_2.msh\n"
     ]
    }
   ],
   "source": [
    "lc = 0.5\n",
    "filename = \"square_$(Int64(round(1/lc, digits=2))).msh\"\n",
    "println(\"Mesh file written to: $filename\")"
   ]
  },
  {
   "cell_type": "markdown",
   "metadata": {},
   "source": [
    "##### Step 1: Defining the structures"
   ]
  },
  {
   "cell_type": "code",
   "execution_count": 3,
   "metadata": {},
   "outputs": [],
   "source": [
    "# struct to hold 2D point\n",
    "struct Point\n",
    "    x::Float64   # x coordinates\n",
    "    y::Float64   # y coordinates \n",
    "  end\n",
    "  \n",
    "  # struct to hold a single mesh element\n",
    "  struct Element\n",
    "    p1::Point       # coordinates first node \n",
    "    p2::Point       # coordinates second node \n",
    "    p3::Point       # coordinates third node   \n",
    "    p4::Point       # coordinates node between first and second node\n",
    "    p5::Point       # coordinates node between second and third node\n",
    "    p6::Point       # coordinates node between third and first node\n",
    "\n",
    "    e1::Int64       # global index first node\n",
    "    e2::Int64       # global index second node\n",
    "    e3::Int64       # global index third node\n",
    "    e4::Int64       # global index fourth node\n",
    "    e5::Int64       # global index fifth node\n",
    "    e6::Int64       # global index sixth node\n",
    "  end\n",
    "  \n",
    "  # struct to hold entire mesh\n",
    "  struct Mesh\n",
    "    nnodes::Int64               # number of nodes \n",
    "    nelems::Int64               # number of elements\n",
    "    Elements::Array{Element,1}  # list of Elements \n",
    "    bndNodeIds::Vector{Int64}   # indices of nodes where Dirichlet bc are applied  \n",
    "    dofPerElem::Int64           # number of dofs per element \n",
    "  end"
   ]
  },
  {
   "cell_type": "markdown",
   "metadata": {},
   "source": [
    "##### Step 2: Defining auxiliary functions"
   ]
  },
  {
   "cell_type": "code",
   "execution_count": 16,
   "metadata": {},
   "outputs": [
    {
     "data": {
      "text/plain": [
       "calculate_function_value_floc (generic function with 1 method)"
      ]
     },
     "metadata": {},
     "output_type": "display_data"
    }
   ],
   "source": [
    "# Parameters for 3 point Gaussian quadrature\n",
    "xi_gaussian = [2/3, 1/6, 1/6];\n",
    "eta_gaussian = [1/6, 2/3, 1/6];\n",
    "weight_gaussian = [1/3, 1/3, 1/3];\n",
    "\n",
    "# Function to calculate the transformation coordinates\n",
    "function calculate_tranformation_coordinates(xi, eta, p1, p2, p3)\n",
    "    x = p1.x + (p2.x - p1.x)*xi + (p3.x - p1.x)*eta\n",
    "    y = p1.y + (p2.y - p1.y)*xi + (p3.y - p1.y)*eta\n",
    "    return x, y\n",
    "end\n",
    "\n",
    "# Function to calculate the aij(Aloc element)\n",
    "function cfvA(x, y, a_i, c_i, d_i, b_i, e_i, a_j, c_j, d_j, b_j, e_j)\n",
    "    term1 = (2*a_i*x + c_i*y + d_i) * (2*a_j*x + c_j*y + d_j)\n",
    "    term2 = (2*b_i*y + c_i*x + e_i) * (2*b_j*y + c_j*x + e_j)\n",
    "return term1 + term2\n",
    "end\n",
    "\n",
    "# Function to calculate the Mij(Mloc element)\n",
    "function calculate_function_value_floc(x, y, a_i, b_i, c_i, d_i, e_i, f_i)\n",
    "    term = (x + y) * (a_i*x^2 + b_i*y^2 + c_i*x*y + d_i*x + e_i*y + f_i);\n",
    "    return term\n",
    "end "
   ]
  },
  {
   "cell_type": "markdown",
   "metadata": {},
   "source": [
    "##### Step 3: Reading mesh file and defining the structures"
   ]
  },
  {
   "cell_type": "code",
   "execution_count": 5,
   "metadata": {},
   "outputs": [
    {
     "data": {
      "text/plain": [
       "nodesFromGmsh (generic function with 1 method)"
      ]
     },
     "metadata": {},
     "output_type": "display_data"
    }
   ],
   "source": [
    "# read elements from mesh file \n",
    "function meshFromGmsh(meshFile)    \n",
    "    \n",
    "    #Initialize GMSH\n",
    "    gmsh.initialize()\n",
    "    \n",
    "    #Read mesh from file\n",
    "    gmsh.open(meshFile)\n",
    "\n",
    "    # Get the mesh nodes\n",
    "    # Observe that although the mesh is two-dimensional,\n",
    "    # the z-coordinate that is equal to zero is stored as well.\n",
    "    # Observe that the coordinates are stored contiguously for computational efficiency\n",
    "    node_ids, node_coord, _ = gmsh.model.mesh.getNodes()\n",
    "    nnodes = length(node_ids)\n",
    "    # sort the node coordinates by ID, such that Node one sits at row 1\n",
    "    tosort = [node_ids node_coord[1:3:end] node_coord[2:3:end]];\n",
    "    sorted = sortslices(tosort , dims = 1);\n",
    "    node_ids = sorted[:,1]\n",
    "    xnode = sorted[:,2]\n",
    "    ynode = sorted[:,3]\n",
    "\n",
    "    # Get the mesh elements\n",
    "    # Observe that we get all the two-dimensional triangular elements from the mesh\n",
    "    element_types, element_ids, element_connectivity = gmsh.model.mesh.getElements(2)\n",
    "    nelems = length(element_ids[1])\n",
    "      \n",
    "    # Construct uninitialized array of length nelements  \n",
    "    Elements = Array{Element}(undef,nelems)\n",
    "\n",
    "    # Construct the array of elements \n",
    "    for element_id in 1:nelems\n",
    "        e1 = element_connectivity[1][6*(element_id-1)+1]\n",
    "        e2 = element_connectivity[1][6*(element_id-1)+2]\n",
    "        e3 = element_connectivity[1][6*(element_id-1)+3]\n",
    "        e4 = element_connectivity[1][6*(element_id-1)+4]\n",
    "        e5 = element_connectivity[1][6*(element_id-1)+5]\n",
    "        e6 = element_connectivity[1][6*(element_id-1)+6]\n",
    "\n",
    "        p1 = Point(sorted[e1,2], sorted[e1,3])\n",
    "        p2 = Point(sorted[e2,2], sorted[e2,3])\n",
    "        p3 = Point(sorted[e3,2], sorted[e3,3])\n",
    "        p4 = Point(sorted[e4,2], sorted[e4,3])\n",
    "        p5 = Point(sorted[e5,2], sorted[e5,3])\n",
    "        p6 = Point(sorted[e6,2], sorted[e6,3])\n",
    "\n",
    "        Elements[element_id] = Element(p1,p2,p3,p4,p5,p6,e1,e2,e3,e4,e5,e6)\n",
    "    end\n",
    "\n",
    "    # retrieve boundary nodes by loop over corner point and boundary edges\n",
    "    node_ids1=[]; node_ids2=[]; node_ids3=[]; node_ids4=[]; \n",
    "    node_ids5=[]; node_ids6=[]; node_ids7=[]; node_ids8=[]; \n",
    "    node_ids1, node_coord, _ = gmsh.model.mesh.getNodes(0,1)\n",
    "    node_ids2, node_coord, _ = gmsh.model.mesh.getNodes(0,2)\n",
    "    node_ids3, node_coord, _ = gmsh.model.mesh.getNodes(0,3)\n",
    "    node_ids4, node_coord, _ = gmsh.model.mesh.getNodes(0,4)\n",
    "    node_ids5, node_coord, _ = gmsh.model.mesh.getNodes(1,1)\n",
    "    node_ids6, node_coord, _ = gmsh.model.mesh.getNodes(1,2)\n",
    "    node_ids7, node_coord, _ = gmsh.model.mesh.getNodes(1,3)\n",
    "    node_ids8, node_coord, _ = gmsh.model.mesh.getNodes(1,4)\n",
    "    bnd_node_ids = union(node_ids1,node_ids2,node_ids3,node_ids4,node_ids5,node_ids6,node_ids7,node_ids8)\n",
    "    \n",
    "    # Set DOF per element\n",
    "    dofPerElement = 36\n",
    "    \n",
    "    # Store data inside mesh struct  \n",
    "    mesh = Mesh(nnodes,nelems,Elements,bnd_node_ids,dofPerElement) \n",
    "    \n",
    "    # Finalize gmsh\n",
    "    gmsh.finalize()\n",
    "    \n",
    "    return mesh \n",
    "end\n",
    "\n",
    "# read nodes from mesh file (useful for post-processing)\n",
    "function nodesFromGmsh(meshFile)\n",
    "    \n",
    "    # Initialize GMSH\n",
    "    gmsh.initialize()\n",
    "    \n",
    "    # Read mesh from file\n",
    "    gmsh.open(meshFile)\n",
    "\n",
    "    # Get the mesh nodes\n",
    "    # Observe that although the mesh is two-dimensional,\n",
    "    # the z-coordinate that is equal to zero is stored as well.\n",
    "    # Observe that the coordinates are stored contiguously for computational\n",
    "    # efficiency\n",
    "    node_ids, node_coord, _ = gmsh.model.mesh.getNodes()\n",
    "    nnodes = length(node_ids)\n",
    "    # sort the node coordinates by ID, such that Node one sits at row 1\n",
    "    tosort = [node_ids node_coord[1:3:end] node_coord[2:3:end]];\n",
    "    sorted = sortslices(tosort , dims = 1);\n",
    "    node_ids = sorted[:,1]\n",
    "    xnode = sorted[:,2]\n",
    "    ynode = sorted[:,3]\n",
    "\n",
    "    # Finalize gmsh\n",
    "    gmsh.finalize()\n",
    "    \n",
    "    return xnode,ynode \n",
    "end"
   ]
  },
  {
   "cell_type": "code",
   "execution_count": 6,
   "metadata": {},
   "outputs": [
    {
     "data": {
      "text/plain": [
       "Mesh(13, 4, Element[Element(Point(0.0, 0.0), Point(1.0, 0.0), Point(0.5, 0.5), Point(0.5, 0.0), Point(0.75, 0.25), Point(0.25, 0.25), 1, 2, 9, 5, 10, 11), Element(Point(0.0, 1.0), Point(0.0, 0.0), Point(0.5, 0.5), Point(0.0, 0.5), Point(0.25, 0.25), Point(0.25, 0.75), 4, 1, 9, 8, 11, 12), Element(Point(1.0, 0.0), Point(1.0, 1.0), Point(0.5, 0.5), Point(1.0, 0.5), Point(0.75, 0.75), Point(0.75, 0.25), 2, 3, 9, 6, 13, 10), Element(Point(1.0, 1.0), Point(0.0, 1.0), Point(0.5, 0.5), Point(0.5, 1.0), Point(0.25, 0.75), Point(0.75, 0.75), 3, 4, 9, 7, 12, 13)], [1, 2, 3, 4, 5, 6, 7, 8], 36)"
      ]
     },
     "metadata": {},
     "output_type": "display_data"
    },
    {
     "name": "stdout",
     "output_type": "stream",
     "text": [
      "Info    : Reading 'square_1.msh'...\n",
      "Info    : 9 entities\n",
      "Info    : 13 nodes\n",
      "Info    : 12 elements\n",
      "Info    : Done reading 'square_1.msh'\n",
      "Info    : Reading 'square_1.msh'...\n",
      "Info    : 9 entities\n",
      "Info    : 13 nodes\n",
      "Info    : 12 elements\n",
      "Info    : Done reading 'square_1.msh'\n"
     ]
    }
   ],
   "source": [
    "mesh = meshFromGmsh(\"square_1.msh\")\n",
    "xnode, ynode = nodesFromGmsh(\"square_1.msh\")\n",
    "display(mesh)"
   ]
  },
  {
   "cell_type": "markdown",
   "metadata": {},
   "source": [
    "##### Step 4: FEM matrices assembly"
   ]
  },
  {
   "cell_type": "code",
   "execution_count": 21,
   "metadata": {},
   "outputs": [
    {
     "data": {
      "text/plain": [
       "genStiffMat (generic function with 1 method)"
      ]
     },
     "metadata": {},
     "output_type": "display_data"
    }
   ],
   "source": [
    "# Function to assemble the stiffness matrix\n",
    "function genLocStiffMat(element::Element, xi_gaussian, eta_gaussian, weight_gaussian)\n",
    "    p1 = element.p1; p2 = element.p2; p3 = element.p3; p4 = element.p4; p5 = element.p5; p6 = element.p6;\n",
    "    e1 = element.e1; e2 = element.e2; e3 = element.e3; e4 = element.e4; e5 = element.e5; e6 = element.e6;\n",
    "\n",
    "    Iloc = SVector(e1, e1, e1, e1, e1, e1, e2, e2, e2, e2, e2, e2, e3, e3, e3, e3, e3, e3, e4, e4, e4, e4, e4, e4, e5, e5, e5, e5, e5, e5, e6, e6, e6, e6, e6, e6)\n",
    "    Jloc = SVector(e1, e2, e3, e4, e5, e6, e1, e2, e3, e4, e5, e6, e1, e2, e3, e4, e5, e6, e1, e2, e3, e4, e5, e6, e1, e2, e3, e4, e5, e6, e1, e2, e3, e4, e5, e6)\n",
    "    \n",
    "    Xmat = SMatrix{6,6}(p1.x.^2, p2.x.^2, p3.x.^2, p4.x.^2, p5.x.^2, p6.x.^2,\n",
    "                       p1.y.^2, p2.y.^2, p3.y.^2, p4.y.^2, p5.y.^2, p6.y.^2, \n",
    "                       p1.x*p1.y, p2.x*p2.y, p3.x*p3.y, p4.x*p4.y, p5.x*p5.y, p6.x*p6.y,\n",
    "                       p1.x, p2.x, p3.x, p4.x, p5.x, p6.x, \n",
    "                       p1.y, p2.y, p3.y, p4.y, p5.y, p6.y, \n",
    "                       1, 1, 1, 1, 1, 1)\n",
    "    rhs = SMatrix{6,6}(1., 0., 0., 0., 0., 0.,\n",
    "                       0., 1., 0., 0., 0., 0.,\n",
    "                       0., 0., 1., 0., 0., 0.,\n",
    "                       0., 0., 0., 1., 0., 0.,\n",
    "                       0., 0., 0., 0., 1., 0.,\n",
    "                       0., 0., 0., 0., 0., 1.)\n",
    "    Emat = SMatrix{6,6}(Xmat\\rhs)\n",
    "\n",
    "    x_quad1, y_quad1 = calculate_tranformation_coordinates(xi_gaussian[1], eta_gaussian[1], p1, p2, p3);\n",
    "    x_quad2, y_quad2 = calculate_tranformation_coordinates(xi_gaussian[2], eta_gaussian[2], p1, p2, p3);\n",
    "    x_quad3, y_quad3 = calculate_tranformation_coordinates(xi_gaussian[3], eta_gaussian[3], p1, p2, p3);\n",
    "\n",
    "    fp1 = SMatrix{6,6}(cfvA(x_quad1, y_quad1, Emat[1,1], Emat[3,1], Emat[4,1], Emat[2,1], Emat[5,1], Emat[1,1], Emat[3,1], Emat[4,1], Emat[2,1], Emat[5,1]), cfvA(x_quad1, y_quad1, Emat[1,2], Emat[3,2], Emat[4,2], Emat[2,2], Emat[5,2], Emat[1,1], Emat[3,1], Emat[4,1], Emat[2,1], Emat[5,1]), cfvA(x_quad1, y_quad1, Emat[1,3], Emat[3,3], Emat[4,3], Emat[2,3], Emat[5,3], Emat[1,1], Emat[3,1], Emat[4,1], Emat[2,1], Emat[5,1]), cfvA(x_quad1, y_quad1, Emat[1,4], Emat[3,4], Emat[4,4], Emat[2,4], Emat[5,4], Emat[1,1], Emat[3,1], Emat[4,1], Emat[2,1], Emat[5,1]), cfvA(x_quad1, y_quad1, Emat[1,5], Emat[3,5], Emat[4,5], Emat[2,5], Emat[5,5], Emat[1,1], Emat[3,1], Emat[4,1], Emat[2,1], Emat[5,1]), cfvA(x_quad1, y_quad1, Emat[1,6], Emat[3,6], Emat[4,6], Emat[2,6], Emat[5,6], Emat[1,1], Emat[3,1], Emat[4,1], Emat[2,1], Emat[5,1]),\n",
    "                       cfvA(x_quad1, y_quad1, Emat[1,1], Emat[3,1], Emat[4,1], Emat[2,1], Emat[5,1], Emat[1,2], Emat[3,2], Emat[4,2], Emat[2,2], Emat[5,2]), cfvA(x_quad1, y_quad1, Emat[1,2], Emat[3,2], Emat[4,2], Emat[2,2], Emat[5,2], Emat[1,2], Emat[3,2], Emat[4,2], Emat[2,2], Emat[5,2]), cfvA(x_quad1, y_quad1, Emat[1,3], Emat[3,3], Emat[4,3], Emat[2,3], Emat[5,3], Emat[1,2], Emat[3,2], Emat[4,2], Emat[2,2], Emat[5,2]), cfvA(x_quad1, y_quad1, Emat[1,4], Emat[3,4], Emat[4,4], Emat[2,4], Emat[5,4], Emat[1,2], Emat[3,2], Emat[4,2], Emat[2,2], Emat[5,2]), cfvA(x_quad1, y_quad1, Emat[1,5], Emat[3,5], Emat[4,5], Emat[2,5], Emat[5,5], Emat[1,2], Emat[3,2], Emat[4,2], Emat[2,2], Emat[5,2]), cfvA(x_quad1, y_quad1, Emat[1,6], Emat[3,6], Emat[4,6], Emat[2,6], Emat[5,6], Emat[1,2], Emat[3,2], Emat[4,2], Emat[2,2], Emat[5,2]),\n",
    "                       cfvA(x_quad1, y_quad1, Emat[1,1], Emat[3,1], Emat[4,1], Emat[2,1], Emat[5,1], Emat[1,3], Emat[3,3], Emat[4,3], Emat[2,3], Emat[5,3]), cfvA(x_quad1, y_quad1, Emat[1,2], Emat[3,2], Emat[4,2], Emat[2,2], Emat[5,2], Emat[1,3], Emat[3,3], Emat[4,3], Emat[2,3], Emat[5,3]), cfvA(x_quad1, y_quad1, Emat[1,3], Emat[3,3], Emat[4,3], Emat[2,3], Emat[5,3], Emat[1,3], Emat[3,3], Emat[4,3], Emat[2,3], Emat[5,3]), cfvA(x_quad1, y_quad1, Emat[1,4], Emat[3,4], Emat[4,4], Emat[2,4], Emat[5,4], Emat[1,3], Emat[3,3], Emat[4,3], Emat[2,3], Emat[5,3]), cfvA(x_quad1, y_quad1, Emat[1,5], Emat[3,5], Emat[4,5], Emat[2,5], Emat[5,5], Emat[1,3], Emat[3,3], Emat[4,3], Emat[2,3], Emat[5,3]), cfvA(x_quad1, y_quad1, Emat[1,6], Emat[3,6], Emat[4,6], Emat[2,6], Emat[5,6], Emat[1,3], Emat[3,3], Emat[4,3], Emat[2,3], Emat[5,3]),\n",
    "                       cfvA(x_quad1, y_quad1, Emat[1,1], Emat[3,1], Emat[4,1], Emat[2,1], Emat[5,1], Emat[1,4], Emat[3,4], Emat[4,4], Emat[2,4], Emat[5,4]), cfvA(x_quad1, y_quad1, Emat[1,2], Emat[3,2], Emat[4,2], Emat[2,2], Emat[5,2], Emat[1,4], Emat[3,4], Emat[4,4], Emat[2,4], Emat[5,4]), cfvA(x_quad1, y_quad1, Emat[1,3], Emat[3,3], Emat[4,3], Emat[2,3], Emat[5,3], Emat[1,4], Emat[3,4], Emat[4,4], Emat[2,4], Emat[5,4]), cfvA(x_quad1, y_quad1, Emat[1,4], Emat[3,4], Emat[4,4], Emat[2,4], Emat[5,4], Emat[1,4], Emat[3,4], Emat[4,4], Emat[2,4], Emat[5,4]), cfvA(x_quad1, y_quad1, Emat[1,5], Emat[3,5], Emat[4,5], Emat[2,5], Emat[5,5], Emat[1,4], Emat[3,4], Emat[4,4], Emat[2,4], Emat[5,4]), cfvA(x_quad1, y_quad1, Emat[1,6], Emat[3,6], Emat[4,6], Emat[2,6], Emat[5,6], Emat[1,4], Emat[3,4], Emat[4,4], Emat[2,4], Emat[5,4]),\n",
    "                       cfvA(x_quad1, y_quad1, Emat[1,1], Emat[3,1], Emat[4,1], Emat[2,1], Emat[5,1], Emat[1,5], Emat[3,5], Emat[4,5], Emat[2,5], Emat[5,5]), cfvA(x_quad1, y_quad1, Emat[1,2], Emat[3,2], Emat[4,2], Emat[2,2], Emat[5,2], Emat[1,5], Emat[3,5], Emat[4,5], Emat[2,5], Emat[5,5]), cfvA(x_quad1, y_quad1, Emat[1,3], Emat[3,3], Emat[4,3], Emat[2,3], Emat[5,3], Emat[1,5], Emat[3,5], Emat[4,5], Emat[2,5], Emat[5,5]), cfvA(x_quad1, y_quad1, Emat[1,4], Emat[3,4], Emat[4,4], Emat[2,4], Emat[5,4], Emat[1,5], Emat[3,5], Emat[4,5], Emat[2,5], Emat[5,5]), cfvA(x_quad1, y_quad1, Emat[1,5], Emat[3,5], Emat[4,5], Emat[2,5], Emat[5,5], Emat[1,5], Emat[3,5], Emat[4,5], Emat[2,5], Emat[5,5]), cfvA(x_quad1, y_quad1, Emat[1,6], Emat[3,6], Emat[4,6], Emat[2,6], Emat[5,6], Emat[1,5], Emat[3,5], Emat[4,5], Emat[2,5], Emat[5,5]),\n",
    "                       cfvA(x_quad1, y_quad1, Emat[1,1], Emat[3,1], Emat[4,1], Emat[2,1], Emat[5,1], Emat[1,6], Emat[3,6], Emat[4,6], Emat[2,6], Emat[5,6]), cfvA(x_quad1, y_quad1, Emat[1,2], Emat[3,2], Emat[4,2], Emat[2,2], Emat[5,2], Emat[1,6], Emat[3,6], Emat[4,6], Emat[2,6], Emat[5,6]), cfvA(x_quad1, y_quad1, Emat[1,3], Emat[3,3], Emat[4,3], Emat[2,3], Emat[5,3], Emat[1,6], Emat[3,6], Emat[4,6], Emat[2,6], Emat[5,6]), cfvA(x_quad1, y_quad1, Emat[1,4], Emat[3,4], Emat[4,4], Emat[2,4], Emat[5,4], Emat[1,6], Emat[3,6], Emat[4,6], Emat[2,6], Emat[5,6]), cfvA(x_quad1, y_quad1, Emat[1,5], Emat[3,5], Emat[4,5], Emat[2,5], Emat[5,5], Emat[1,6], Emat[3,6], Emat[4,6], Emat[2,6], Emat[5,6]), cfvA(x_quad1, y_quad1, Emat[1,6], Emat[3,6], Emat[4,6], Emat[2,6], Emat[5,6], Emat[1,6], Emat[3,6], Emat[4,6], Emat[2,6], Emat[5,6]));\n",
    "\n",
    "    fp2 = SMatrix{6,6}(cfvA(x_quad2, y_quad2, Emat[1,1], Emat[3,1], Emat[4,1], Emat[2,1], Emat[5,1], Emat[1,1], Emat[3,1], Emat[4,1], Emat[2,1], Emat[5,1]), cfvA(x_quad1, y_quad1, Emat[1,2], Emat[3,2], Emat[4,2], Emat[2,2], Emat[5,2], Emat[1,1], Emat[3,1], Emat[4,1], Emat[2,1], Emat[5,1]), cfvA(x_quad1, y_quad1, Emat[1,3], Emat[3,3], Emat[4,3], Emat[2,3], Emat[5,3], Emat[1,1], Emat[3,1], Emat[4,1], Emat[2,1], Emat[5,1]), cfvA(x_quad1, y_quad1, Emat[1,4], Emat[3,4], Emat[4,4], Emat[2,4], Emat[5,4], Emat[1,1], Emat[3,1], Emat[4,1], Emat[2,1], Emat[5,1]), cfvA(x_quad1, y_quad1, Emat[1,5], Emat[3,5], Emat[4,5], Emat[2,5], Emat[5,5], Emat[1,1], Emat[3,1], Emat[4,1], Emat[2,1], Emat[5,1]), cfvA(x_quad1, y_quad1, Emat[1,6], Emat[3,6], Emat[4,6], Emat[2,6], Emat[5,6], Emat[1,1], Emat[3,1], Emat[4,1], Emat[2,1], Emat[5,1]),\n",
    "                       cfvA(x_quad2, y_quad2, Emat[1,1], Emat[3,1], Emat[4,1], Emat[2,1], Emat[5,1], Emat[1,2], Emat[3,2], Emat[4,2], Emat[2,2], Emat[5,2]), cfvA(x_quad1, y_quad1, Emat[1,2], Emat[3,2], Emat[4,2], Emat[2,2], Emat[5,2], Emat[1,2], Emat[3,2], Emat[4,2], Emat[2,2], Emat[5,2]), cfvA(x_quad1, y_quad1, Emat[1,3], Emat[3,3], Emat[4,3], Emat[2,3], Emat[5,3], Emat[1,2], Emat[3,2], Emat[4,2], Emat[2,2], Emat[5,2]), cfvA(x_quad1, y_quad1, Emat[1,4], Emat[3,4], Emat[4,4], Emat[2,4], Emat[5,4], Emat[1,2], Emat[3,2], Emat[4,2], Emat[2,2], Emat[5,2]), cfvA(x_quad1, y_quad1, Emat[1,5], Emat[3,5], Emat[4,5], Emat[2,5], Emat[5,5], Emat[1,2], Emat[3,2], Emat[4,2], Emat[2,2], Emat[5,2]), cfvA(x_quad1, y_quad1, Emat[1,6], Emat[3,6], Emat[4,6], Emat[2,6], Emat[5,6], Emat[1,2], Emat[3,2], Emat[4,2], Emat[2,2], Emat[5,2]),\n",
    "                       cfvA(x_quad2, y_quad2, Emat[1,1], Emat[3,1], Emat[4,1], Emat[2,1], Emat[5,1], Emat[1,3], Emat[3,3], Emat[4,3], Emat[2,3], Emat[5,3]), cfvA(x_quad1, y_quad1, Emat[1,2], Emat[3,2], Emat[4,2], Emat[2,2], Emat[5,2], Emat[1,3], Emat[3,3], Emat[4,3], Emat[2,3], Emat[5,3]), cfvA(x_quad1, y_quad1, Emat[1,3], Emat[3,3], Emat[4,3], Emat[2,3], Emat[5,3], Emat[1,3], Emat[3,3], Emat[4,3], Emat[2,3], Emat[5,3]), cfvA(x_quad1, y_quad1, Emat[1,4], Emat[3,4], Emat[4,4], Emat[2,4], Emat[5,4], Emat[1,3], Emat[3,3], Emat[4,3], Emat[2,3], Emat[5,3]), cfvA(x_quad1, y_quad1, Emat[1,5], Emat[3,5], Emat[4,5], Emat[2,5], Emat[5,5], Emat[1,3], Emat[3,3], Emat[4,3], Emat[2,3], Emat[5,3]), cfvA(x_quad1, y_quad1, Emat[1,6], Emat[3,6], Emat[4,6], Emat[2,6], Emat[5,6], Emat[1,3], Emat[3,3], Emat[4,3], Emat[2,3], Emat[5,3]),\n",
    "                       cfvA(x_quad2, y_quad2, Emat[1,1], Emat[3,1], Emat[4,1], Emat[2,1], Emat[5,1], Emat[1,4], Emat[3,4], Emat[4,4], Emat[2,4], Emat[5,4]), cfvA(x_quad1, y_quad1, Emat[1,2], Emat[3,2], Emat[4,2], Emat[2,2], Emat[5,2], Emat[1,4], Emat[3,4], Emat[4,4], Emat[2,4], Emat[5,4]), cfvA(x_quad1, y_quad1, Emat[1,3], Emat[3,3], Emat[4,3], Emat[2,3], Emat[5,3], Emat[1,4], Emat[3,4], Emat[4,4], Emat[2,4], Emat[5,4]), cfvA(x_quad1, y_quad1, Emat[1,4], Emat[3,4], Emat[4,4], Emat[2,4], Emat[5,4], Emat[1,4], Emat[3,4], Emat[4,4], Emat[2,4], Emat[5,4]), cfvA(x_quad1, y_quad1, Emat[1,5], Emat[3,5], Emat[4,5], Emat[2,5], Emat[5,5], Emat[1,4], Emat[3,4], Emat[4,4], Emat[2,4], Emat[5,4]), cfvA(x_quad1, y_quad1, Emat[1,6], Emat[3,6], Emat[4,6], Emat[2,6], Emat[5,6], Emat[1,4], Emat[3,4], Emat[4,4], Emat[2,4], Emat[5,4]),\n",
    "                       cfvA(x_quad2, y_quad2, Emat[1,1], Emat[3,1], Emat[4,1], Emat[2,1], Emat[5,1], Emat[1,5], Emat[3,5], Emat[4,5], Emat[2,5], Emat[5,5]), cfvA(x_quad1, y_quad1, Emat[1,2], Emat[3,2], Emat[4,2], Emat[2,2], Emat[5,2], Emat[1,5], Emat[3,5], Emat[4,5], Emat[2,5], Emat[5,5]), cfvA(x_quad1, y_quad1, Emat[1,3], Emat[3,3], Emat[4,3], Emat[2,3], Emat[5,3], Emat[1,5], Emat[3,5], Emat[4,5], Emat[2,5], Emat[5,5]), cfvA(x_quad1, y_quad1, Emat[1,4], Emat[3,4], Emat[4,4], Emat[2,4], Emat[5,4], Emat[1,5], Emat[3,5], Emat[4,5], Emat[2,5], Emat[5,5]), cfvA(x_quad1, y_quad1, Emat[1,5], Emat[3,5], Emat[4,5], Emat[2,5], Emat[5,5], Emat[1,5], Emat[3,5], Emat[4,5], Emat[2,5], Emat[5,5]), cfvA(x_quad1, y_quad1, Emat[1,6], Emat[3,6], Emat[4,6], Emat[2,6], Emat[5,6], Emat[1,5], Emat[3,5], Emat[4,5], Emat[2,5], Emat[5,5]),\n",
    "                       cfvA(x_quad2, y_quad2, Emat[1,1], Emat[3,1], Emat[4,1], Emat[2,1], Emat[5,1], Emat[1,6], Emat[3,6], Emat[4,6], Emat[2,6], Emat[5,6]), cfvA(x_quad1, y_quad1, Emat[1,2], Emat[3,2], Emat[4,2], Emat[2,2], Emat[5,2], Emat[1,6], Emat[3,6], Emat[4,6], Emat[2,6], Emat[5,6]), cfvA(x_quad1, y_quad1, Emat[1,3], Emat[3,3], Emat[4,3], Emat[2,3], Emat[5,3], Emat[1,6], Emat[3,6], Emat[4,6], Emat[2,6], Emat[5,6]), cfvA(x_quad1, y_quad1, Emat[1,4], Emat[3,4], Emat[4,4], Emat[2,4], Emat[5,4], Emat[1,6], Emat[3,6], Emat[4,6], Emat[2,6], Emat[5,6]), cfvA(x_quad1, y_quad1, Emat[1,5], Emat[3,5], Emat[4,5], Emat[2,5], Emat[5,5], Emat[1,6], Emat[3,6], Emat[4,6], Emat[2,6], Emat[5,6]), cfvA(x_quad1, y_quad1, Emat[1,6], Emat[3,6], Emat[4,6], Emat[2,6], Emat[5,6], Emat[1,6], Emat[3,6], Emat[4,6], Emat[2,6], Emat[5,6]));\n",
    "    \n",
    "    fp3 = SMatrix{6,6}(cfvA(x_quad3, y_quad3, Emat[1,1], Emat[3,1], Emat[4,1], Emat[2,1], Emat[5,1], Emat[1,1], Emat[3,1], Emat[4,1], Emat[2,1], Emat[5,1]), cfvA(x_quad1, y_quad1, Emat[1,2], Emat[3,2], Emat[4,2], Emat[2,2], Emat[5,2], Emat[1,1], Emat[3,1], Emat[4,1], Emat[2,1], Emat[5,1]), cfvA(x_quad1, y_quad1, Emat[1,3], Emat[3,3], Emat[4,3], Emat[2,3], Emat[5,3], Emat[1,1], Emat[3,1], Emat[4,1], Emat[2,1], Emat[5,1]), cfvA(x_quad1, y_quad1, Emat[1,4], Emat[3,4], Emat[4,4], Emat[2,4], Emat[5,4], Emat[1,1], Emat[3,1], Emat[4,1], Emat[2,1], Emat[5,1]), cfvA(x_quad1, y_quad1, Emat[1,5], Emat[3,5], Emat[4,5], Emat[2,5], Emat[5,5], Emat[1,1], Emat[3,1], Emat[4,1], Emat[2,1], Emat[5,1]), cfvA(x_quad1, y_quad1, Emat[1,6], Emat[3,6], Emat[4,6], Emat[2,6], Emat[5,6], Emat[1,1], Emat[3,1], Emat[4,1], Emat[2,1], Emat[5,1]),\n",
    "                       cfvA(x_quad3, y_quad3, Emat[1,1], Emat[3,1], Emat[4,1], Emat[2,1], Emat[5,1], Emat[1,2], Emat[3,2], Emat[4,2], Emat[2,2], Emat[5,2]), cfvA(x_quad1, y_quad1, Emat[1,2], Emat[3,2], Emat[4,2], Emat[2,2], Emat[5,2], Emat[1,2], Emat[3,2], Emat[4,2], Emat[2,2], Emat[5,2]), cfvA(x_quad1, y_quad1, Emat[1,3], Emat[3,3], Emat[4,3], Emat[2,3], Emat[5,3], Emat[1,2], Emat[3,2], Emat[4,2], Emat[2,2], Emat[5,2]), cfvA(x_quad1, y_quad1, Emat[1,4], Emat[3,4], Emat[4,4], Emat[2,4], Emat[5,4], Emat[1,2], Emat[3,2], Emat[4,2], Emat[2,2], Emat[5,2]), cfvA(x_quad1, y_quad1, Emat[1,5], Emat[3,5], Emat[4,5], Emat[2,5], Emat[5,5], Emat[1,2], Emat[3,2], Emat[4,2], Emat[2,2], Emat[5,2]), cfvA(x_quad1, y_quad1, Emat[1,6], Emat[3,6], Emat[4,6], Emat[2,6], Emat[5,6], Emat[1,2], Emat[3,2], Emat[4,2], Emat[2,2], Emat[5,2]),\n",
    "                       cfvA(x_quad3, y_quad3, Emat[1,1], Emat[3,1], Emat[4,1], Emat[2,1], Emat[5,1], Emat[1,3], Emat[3,3], Emat[4,3], Emat[2,3], Emat[5,3]), cfvA(x_quad1, y_quad1, Emat[1,2], Emat[3,2], Emat[4,2], Emat[2,2], Emat[5,2], Emat[1,3], Emat[3,3], Emat[4,3], Emat[2,3], Emat[5,3]), cfvA(x_quad1, y_quad1, Emat[1,3], Emat[3,3], Emat[4,3], Emat[2,3], Emat[5,3], Emat[1,3], Emat[3,3], Emat[4,3], Emat[2,3], Emat[5,3]), cfvA(x_quad1, y_quad1, Emat[1,4], Emat[3,4], Emat[4,4], Emat[2,4], Emat[5,4], Emat[1,3], Emat[3,3], Emat[4,3], Emat[2,3], Emat[5,3]), cfvA(x_quad1, y_quad1, Emat[1,5], Emat[3,5], Emat[4,5], Emat[2,5], Emat[5,5], Emat[1,3], Emat[3,3], Emat[4,3], Emat[2,3], Emat[5,3]), cfvA(x_quad1, y_quad1, Emat[1,6], Emat[3,6], Emat[4,6], Emat[2,6], Emat[5,6], Emat[1,3], Emat[3,3], Emat[4,3], Emat[2,3], Emat[5,3]),\n",
    "                       cfvA(x_quad3, y_quad3, Emat[1,1], Emat[3,1], Emat[4,1], Emat[2,1], Emat[5,1], Emat[1,4], Emat[3,4], Emat[4,4], Emat[2,4], Emat[5,4]), cfvA(x_quad1, y_quad1, Emat[1,2], Emat[3,2], Emat[4,2], Emat[2,2], Emat[5,2], Emat[1,4], Emat[3,4], Emat[4,4], Emat[2,4], Emat[5,4]), cfvA(x_quad1, y_quad1, Emat[1,3], Emat[3,3], Emat[4,3], Emat[2,3], Emat[5,3], Emat[1,4], Emat[3,4], Emat[4,4], Emat[2,4], Emat[5,4]), cfvA(x_quad1, y_quad1, Emat[1,4], Emat[3,4], Emat[4,4], Emat[2,4], Emat[5,4], Emat[1,4], Emat[3,4], Emat[4,4], Emat[2,4], Emat[5,4]), cfvA(x_quad1, y_quad1, Emat[1,5], Emat[3,5], Emat[4,5], Emat[2,5], Emat[5,5], Emat[1,4], Emat[3,4], Emat[4,4], Emat[2,4], Emat[5,4]), cfvA(x_quad1, y_quad1, Emat[1,6], Emat[3,6], Emat[4,6], Emat[2,6], Emat[5,6], Emat[1,4], Emat[3,4], Emat[4,4], Emat[2,4], Emat[5,4]),\n",
    "                       cfvA(x_quad3, y_quad3, Emat[1,1], Emat[3,1], Emat[4,1], Emat[2,1], Emat[5,1], Emat[1,5], Emat[3,5], Emat[4,5], Emat[2,5], Emat[5,5]), cfvA(x_quad1, y_quad1, Emat[1,2], Emat[3,2], Emat[4,2], Emat[2,2], Emat[5,2], Emat[1,5], Emat[3,5], Emat[4,5], Emat[2,5], Emat[5,5]), cfvA(x_quad1, y_quad1, Emat[1,3], Emat[3,3], Emat[4,3], Emat[2,3], Emat[5,3], Emat[1,5], Emat[3,5], Emat[4,5], Emat[2,5], Emat[5,5]), cfvA(x_quad1, y_quad1, Emat[1,4], Emat[3,4], Emat[4,4], Emat[2,4], Emat[5,4], Emat[1,5], Emat[3,5], Emat[4,5], Emat[2,5], Emat[5,5]), cfvA(x_quad1, y_quad1, Emat[1,5], Emat[3,5], Emat[4,5], Emat[2,5], Emat[5,5], Emat[1,5], Emat[3,5], Emat[4,5], Emat[2,5], Emat[5,5]), cfvA(x_quad1, y_quad1, Emat[1,6], Emat[3,6], Emat[4,6], Emat[2,6], Emat[5,6], Emat[1,5], Emat[3,5], Emat[4,5], Emat[2,5], Emat[5,5]),\n",
    "                       cfvA(x_quad3, y_quad3, Emat[1,1], Emat[3,1], Emat[4,1], Emat[2,1], Emat[5,1], Emat[1,6], Emat[3,6], Emat[4,6], Emat[2,6], Emat[5,6]), cfvA(x_quad1, y_quad1, Emat[1,2], Emat[3,2], Emat[4,2], Emat[2,2], Emat[5,2], Emat[1,6], Emat[3,6], Emat[4,6], Emat[2,6], Emat[5,6]), cfvA(x_quad1, y_quad1, Emat[1,3], Emat[3,3], Emat[4,3], Emat[2,3], Emat[5,3], Emat[1,6], Emat[3,6], Emat[4,6], Emat[2,6], Emat[5,6]), cfvA(x_quad1, y_quad1, Emat[1,4], Emat[3,4], Emat[4,4], Emat[2,4], Emat[5,4], Emat[1,6], Emat[3,6], Emat[4,6], Emat[2,6], Emat[5,6]), cfvA(x_quad1, y_quad1, Emat[1,5], Emat[3,5], Emat[4,5], Emat[2,5], Emat[5,5], Emat[1,6], Emat[3,6], Emat[4,6], Emat[2,6], Emat[5,6]), cfvA(x_quad1, y_quad1, Emat[1,6], Emat[3,6], Emat[4,6], Emat[2,6], Emat[5,6], Emat[1,6], Emat[3,6], Emat[4,6], Emat[2,6], Emat[5,6]));\n",
    "\n",
    "    jacobian_factor = (p2.x - p1.x)*(p3.y - p1.y) - (p3.x - p1.x)*(p2.y - p1.y);\n",
    "\n",
    "    Amat = SMatrix{6,6}(0.5*jacobian_factor*(weight_gaussian[1]*fp1 + weight_gaussian[2]*fp2 + weight_gaussian[3]*fp3));\n",
    "    # for i in 1:6\n",
    "    #     for j in 1:6\n",
    "    #         fp1 = cfvA(x_quad1, y_quad1, Emat[1,i], Emat[3,i], Emat[4,i], Emat[2,i], Emat[5,i], Emat[1,j], Emat[3,j], Emat[4,j], Emat[2,j], Emat[5,j]);\n",
    "    #         fp2 = cfvA(x_quad2, y_quad2, Emat[1,i], Emat[3,i], Emat[4,i], Emat[2,i], Emat[5,i], Emat[1,j], Emat[3,j], Emat[4,j], Emat[2,j], Emat[5,j]);\n",
    "    #         fp3 = cfvA(x_quad3, y_quad3, Emat[1,i], Emat[3,i], Emat[4,i], Emat[2,i], Emat[5,i], Emat[1,j], Emat[3,j], Emat[4,j], Emat[2,j], Emat[5,j]);\n",
    "    #         Amat[i,j] = (1/2)*jacobian_factor*(weight_gaussian[1]*fp1 + weight_gaussian[2]*fp2 + weight_gaussian[3]*fp3);\n",
    "    #     end\n",
    "    # end\n",
    "\n",
    "    Aloc = [Amat[1,:]; Amat[2,:]; Amat[3,:]; Amat[4,:]; Amat[5,:]; Amat[6,:]];\n",
    "    return Iloc, Jloc, Aloc\n",
    "end\n",
    "\n",
    "function genStiffMat(mesh::Mesh)\n",
    "\n",
    "    nelems = mesh.nelems\n",
    "    dofPerElem = mesh.dofPerElem\n",
    "\n",
    "    Avalues = zeros(Float64, dofPerElem*nelems)\n",
    "    I = zeros(Int64, length(Avalues))\n",
    "    J = zeros(Int64, length(Avalues))\n",
    "\n",
    "    for i = 1:nelems\n",
    "        element = mesh.Elements[i]\n",
    "        Iloc, Jloc, Aloc = genLocStiffMat(element, xi_gaussian, eta_gaussian, weight_gaussian)\n",
    "        irange = mrange(dofPerElem*i-35, dofPerElem*i)\n",
    "        I[irange] = Iloc\n",
    "        J[irange] = Jloc\n",
    "        Avalues[irange] = Aloc\n",
    "    end\n",
    "\n",
    "    A = sparse(I,J,Avalues)\n",
    "\n",
    "    return A;\n",
    "end"
   ]
  },
  {
   "cell_type": "code",
   "execution_count": 22,
   "metadata": {},
   "outputs": [
    {
     "name": "stdout",
     "output_type": "stream",
     "text": [
      "Info    : Reading 'square_1.msh'...\n",
      "Info    : 9 entities\n",
      "Info    : 13 nodes\n",
      "Info    : 12 elements\n",
      "Info    : Done reading 'square_1.msh'\n"
     ]
    }
   ],
   "source": [
    "mesh = meshFromGmsh(\"square_1.msh\")\n",
    "A = genStiffMat(mesh);"
   ]
  },
  {
   "cell_type": "code",
   "execution_count": 23,
   "metadata": {},
   "outputs": [
    {
     "name": "stdout",
     "output_type": "stream",
     "text": [
      "Info    : Reading 'square_1.msh'...\n",
      "Info    : 9 entities\n",
      "Info    : 13 nodes\n",
      "Info    : 12 elements\n",
      "Info    : Done reading 'square_1.msh'\n",
      "  0.000064 seconds (49 allocations: 19.891 KiB)"
     ]
    },
    {
     "name": "stdout",
     "output_type": "stream",
     "text": [
      "\n",
      "Info    : Reading 'square_1.msh'...\n",
      "Info    : 9 entities\n",
      "Info    : 13 nodes\n",
      "Info    : 12 elements\n",
      "Info    : Done reading 'square_1.msh'\n",
      "  0.000046 seconds (49 allocations: 19.891 KiB)\n",
      "Info    : Reading 'square_2.msh'...\n",
      "Info    : 9 entities\n",
      "Info    : 37 nodes\n",
      "Info    : 26 elements\n",
      "Info    : Done reading 'square_2.msh'\n",
      "  0.000089 seconds (139 allocations: 67.125 KiB)\n",
      "Info    : Reading 'square_10.msh'...\n",
      "Info    : 9 entities\n",
      "Info    : 525 nodes\n",
      "Info    : 286 elements\n",
      "Info    : Done reading 'square_10.msh'\n",
      "  0.000968 seconds (2.20 k allocations: 1.105 MiB)"
     ]
    },
    {
     "name": "stdout",
     "output_type": "stream",
     "text": [
      "\n",
      "Info    : Reading 'square_20.msh'...\n",
      "Info    : 9 entities\n",
      "Info    : 1969 nodes\n",
      "Info    : 1028 elements\n",
      "Info    : Done reading 'square_20.msh'\n",
      "  0.004333 seconds (8.52 k allocations: 4.300 MiB)\n",
      "Info    : Reading 'square_100.msh'...\n",
      "Info    : 9 entities\n",
      "Info    : 46929 nodes\n",
      "Info    : 23668 elements\n",
      "Info    : Done reading 'square_100.msh'\n",
      "  0.170165 seconds (209.40 k allocations: 105.819 MiB, 14.72% gc time)"
     ]
    },
    {
     "name": "stdout",
     "output_type": "stream",
     "text": [
      "\n"
     ]
    }
   ],
   "source": [
    "mesh = meshFromGmsh(\"square_1.msh\");   @time genStiffMat(mesh); # <= force recompilation \n",
    "mesh = meshFromGmsh(\"square_1.msh\");   @time genStiffMat(mesh);\n",
    "mesh = meshFromGmsh(\"square_2.msh\");   @time genStiffMat(mesh); \n",
    "mesh = meshFromGmsh(\"square_10.msh\");  @time genStiffMat(mesh); \n",
    "mesh = meshFromGmsh(\"square_20.msh\"); @time genStiffMat(mesh);\n",
    "mesh = meshFromGmsh(\"square_100.msh\"); @time genStiffMat(mesh);"
   ]
  },
  {
   "cell_type": "code",
   "execution_count": null,
   "metadata": {},
   "outputs": [],
   "source": [
    "# Before making xi, eta and weight_gaussian as parameters and removing a to f vectors \n",
    "# The number of allocation actually increased after that which I don't understand\n",
    "# And the number of allocations increased even more after I took the for loop out\n",
    "\n",
    "# Info    : Reading 'square_1.msh'...\n",
    "# Info    : 9 entities\n",
    "# Info    : 13 nodes\n",
    "# Info    : 12 elements\n",
    "# Info    : Done reading 'square_1.msh'\n",
    "#   0.000051 seconds (33 allocations: 14.703 KiB)\n",
    "# Info    : Reading 'square_1.msh'...\n",
    "# Info    : 9 entities\n",
    "# Info    : 13 nodes\n",
    "# Info    : 12 elements\n",
    "# Info    : Done reading 'square_1.msh'\n",
    "#   0.000049 seconds (33 allocations: 14.703 KiB)\n",
    "# Info    : Reading 'square_2.msh'...\n",
    "# Info    : 9 entities\n",
    "# Info    : 37 nodes\n",
    "# Info    : 26 elements\n",
    "# Info    : Done reading 'square_2.msh'\n",
    "#   0.000082 seconds (83 allocations: 48.969 KiB)\n",
    "# Info    : Reading 'square_10.msh'...\n",
    "# Info    : 9 entities\n",
    "# Info    : 525 nodes\n",
    "# Info    : 286 elements\n",
    "# Info    : Done reading 'square_10.msh'\n",
    "#   0.001114 seconds (1.23 k allocations: 817.469 KiB)\n",
    "# Info    : Reading 'square_20.msh'...\n",
    "# Info    : 9 entities\n",
    "# Info    : 1969 nodes\n",
    "# Info    : 1028 elements\n",
    "# Info    : Done reading 'square_20.msh'\n",
    "#   0.006796 seconds (4.74 k allocations: 3.105 MiB)\n",
    "# Info    : Reading 'square_100.msh'...\n",
    "# Info    : 9 entities\n",
    "# Info    : 46929 nodes\n",
    "# Info    : 23668 elements\n",
    "# Info    : Done reading 'square_100.msh'\n",
    "#   0.204760 seconds (116.34 k allocations: 76.355 MiB, 14.71% gc time)"
   ]
  },
  {
   "cell_type": "code",
   "execution_count": 19,
   "metadata": {},
   "outputs": [
    {
     "name": "stdout",
     "output_type": "stream",
     "text": [
      "MethodInstance for genStiffMat(::Mesh)\n",
      "  from genStiffMat(\u001b[90mmesh\u001b[39m::\u001b[1mMesh\u001b[22m)\u001b[90m @\u001b[39m \u001b[90mMain\u001b[39m \u001b[90md:\\Python Codes\\FEM Jupyter Notebook\\\u001b[39m\u001b[90m\u001b[4m2order.ipynb:52\u001b[24m\u001b[39m\n",
      "Arguments\n",
      "  #self#\u001b[36m::Core.Const(genStiffMat)\u001b[39m\n",
      "  mesh\u001b[36m::Mesh\u001b[39m\n",
      "Locals\n",
      "  @_3\u001b[33m\u001b[1m::Union{Nothing, Tuple{Int64, Int64}}\u001b[22m\u001b[39m\n",
      "  A\u001b[36m::SparseMatrixCSC{Float64, Int64}\u001b[39m\n",
      "  J\u001b[36m::Vector{Int64}\u001b[39m\n",
      "  I\u001b[36m::Vector{Int64}\u001b[39m\n",
      "  Avalues\u001b[36m::Vector{Float64}\u001b[39m\n",
      "  dofPerElem\u001b[36m::Int64\u001b[39m\n",
      "  nelems\u001b[36m::Int64\u001b[39m\n",
      "  @_10\u001b[36m::Int64\u001b[39m\n",
      "  i\u001b[36m::Int64\u001b[39m\n",
      "  irange\u001b[36m::MutableRange{Int64, UnitRange{Int64}}\u001b[39m\n",
      "  Aloc\u001b[36m::MVector{36, Float64}\u001b[39m\n",
      "  Jloc\u001b[36m::SVector{36, Int64}\u001b[39m\n",
      "  Iloc\u001b[36m::SVector{36, Int64}\u001b[39m\n",
      "  element\u001b[36m::Element\u001b[39m\n",
      "Body\u001b[36m::SparseMatrixCSC{Float64, Int64}\u001b[39m\n",
      "\u001b[90m1 ─\u001b[39m       Core.NewvarNode(:(A))\n",
      "\u001b[90m│  \u001b[39m       (nelems = Base.getproperty(mesh, :nelems))\n",
      "\u001b[90m│  \u001b[39m       (dofPerElem = Base.getproperty(mesh, :dofPerElem))\n",
      "\u001b[90m│  \u001b[39m %4  = Main.Float64\u001b[36m::Core.Const(Float64)\u001b[39m\n",
      "\u001b[90m│  \u001b[39m %5  = (dofPerElem * nelems)\u001b[36m::Int64\u001b[39m\n",
      "\u001b[90m│  \u001b[39m       (Avalues = Main.zeros(%4, %5))\n",
      "\u001b[90m│  \u001b[39m %7  = Main.Int64\u001b[36m::Core.Const(Int64)\u001b[39m\n",
      "\u001b[90m│  \u001b[39m %8  = Main.length(Avalues)\u001b[36m::Int64\u001b[39m\n",
      "\u001b[90m│  \u001b[39m       (I = Main.zeros(%7, %8))\n",
      "\u001b[90m│  \u001b[39m %10 = Main.Int64\u001b[36m::Core.Const(Int64)\u001b[39m\n",
      "\u001b[90m│  \u001b[39m %11 = Main.length(Avalues)\u001b[36m::Int64\u001b[39m\n",
      "\u001b[90m│  \u001b[39m       (J = Main.zeros(%10, %11))\n",
      "\u001b[90m│  \u001b[39m %13 = (1:nelems)\u001b[36m::Core.PartialStruct(UnitRange{Int64}, Any[Core.Const(1), Int64])\u001b[39m\n",
      "\u001b[90m│  \u001b[39m"
     ]
    },
    {
     "name": "stdout",
     "output_type": "stream",
     "text": [
      "       (@_3 = Base.iterate(%13))\n",
      "\u001b[90m│  \u001b[39m %15 = (@_3 === nothing)\u001b[36m::Bool\u001b[39m\n",
      "\u001b[90m│  \u001b[39m %16 = Base.not_int(%15)\u001b[36m::Bool\u001b[39m\n",
      "\u001b[90m└──\u001b[39m       goto #4 if not %16\n",
      "\u001b[90m2 ┄\u001b[39m %18 = @_3\u001b[36m::Tuple{Int64, Int64}\u001b[39m\n",
      "\u001b[90m│  \u001b[39m       (i = Core.getfield(%18, 1))\n",
      "\u001b[90m│  \u001b[39m %20 = Core.getfield(%18, 2)\u001b[36m::Int64\u001b[39m\n",
      "\u001b[90m│  \u001b[39m %21 = Base.getproperty(mesh, :Elements)\u001b[36m::Vector{Element}\u001b[39m\n",
      "\u001b[90m│  \u001b[39m       (element = Base.getindex(%21, i))\n",
      "\u001b[90m│  \u001b[39m %23 = Main.genLocStiffMat(element)\u001b[36m::Tuple{SVector{36, Int64}, SVector{36, Int64}, MVector{36, Float64}}\u001b[39m\n",
      "\u001b[90m│  \u001b[39m %24 = Base.indexed_iterate(%23, 1)\u001b[36m::Core.PartialStruct(Tuple{SVector{36, Int64}, Int64}, Any[SVector{36, Int64}, Core.Const(2)])\u001b[39m\n",
      "\u001b[90m│  \u001b[39m       (Iloc = Core.getfield(%24, 1))\n",
      "\u001b[90m│  \u001b[39m       (@_10 = Core.getfield(%24, 2))\n",
      "\u001b[90m│  \u001b[39m %27 = Base.indexed_iterate(%23, 2, @_10::Core.Const(2))\u001b[36m::Core.PartialStruct(Tuple{SVector{36, Int64}, Int64}, Any[SVector{36, Int64}, Core.Const(3)])\u001b[39m\n",
      "\u001b[90m│  \u001b[39m       (Jloc = Core.getfield(%27, 1))\n",
      "\u001b[90m│  \u001b[39m       (@_10 = Core.getfield(%27, 2))\n",
      "\u001b[90m│  \u001b[39m %30 = Base.indexed_iterate(%23, 3, @_10::Core.Const(3))\u001b[36m::Core.PartialStruct(Tuple{MVector{36, Float64}, Int64}, Any[MVector{36, Float64}, Core.Const(4)])\u001b[39m\n",
      "\u001b[90m│  \u001b[39m       (Aloc = Core.getfield(%30, 1))\n",
      "\u001b[90m│  \u001b[39m %32 = (dofPerElem * i)\u001b[36m::Int64\u001b[39m\n",
      "\u001b[90m│  \u001b[39m "
     ]
    },
    {
     "name": "stdout",
     "output_type": "stream",
     "text": [
      "%33 = (%32 - 35)\u001b[36m::Int64\u001b[39m\n",
      "\u001b[90m│  \u001b[39m %34 = (dofPerElem * i)\u001b[36m::Int64\u001b[39m\n",
      "\u001b[90m│  \u001b[39m       (irange = Main.mrange(%33, %34))\n",
      "\u001b[90m│  \u001b[39m       Base.setindex!(I, Iloc, irange)\n",
      "\u001b[90m│  \u001b[39m       Base.setindex!(J, Jloc, irange)\n",
      "\u001b[90m│  \u001b[39m       Base.setindex!(Avalues, Aloc, irange)\n",
      "\u001b[90m│  \u001b[39m       (@_3 = Base.iterate(%13, %20))\n",
      "\u001b[90m│  \u001b[39m %40 = (@_3 === nothing)\u001b[36m::Bool\u001b[39m\n",
      "\u001b[90m│  \u001b[39m %41 = Base.not_int(%40)\u001b[36m::Bool\u001b[39m\n",
      "\u001b[90m└──\u001b[39m       goto #4 if not %41\n",
      "\u001b[90m3 ─\u001b[39m       goto #2\n",
      "\u001b[90m4 ┄\u001b[39m       (A = Main.sparse(I, J, Avalues))\n",
      "\u001b[90m└──\u001b[39m       return A\n",
      "\n"
     ]
    }
   ],
   "source": [
    "@code_warntype genStiffMat(mesh)"
   ]
  },
  {
   "cell_type": "code",
   "execution_count": null,
   "metadata": {},
   "outputs": [],
   "source": [
    "# Function to assemble the f vector"
   ]
  }
 ],
 "metadata": {
  "kernelspec": {
   "display_name": "Julia 1.9.1",
   "language": "julia",
   "name": "julia-1.9"
  },
  "language_info": {
   "file_extension": ".jl",
   "mimetype": "application/julia",
   "name": "julia",
   "version": "1.9.1"
  },
  "orig_nbformat": 4
 },
 "nbformat": 4,
 "nbformat_minor": 2
}
